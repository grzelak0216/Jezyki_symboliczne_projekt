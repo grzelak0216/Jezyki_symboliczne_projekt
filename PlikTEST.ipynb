{
 "cells": [
  {
   "cell_type": "markdown",
   "metadata": {},
   "source": [
    "# Projekt języki symboliczne"
   ]
  },
  {
   "cell_type": "code",
   "execution_count": null,
   "metadata": {},
   "outputs": [],
   "source": [
    "from random import randint\n",
    "\n",
    "def createboard():\n",
    "    we=[]\n",
    "    wy=[]\n",
    "    \n",
    "    a = int(input('podaj wysokosc: '))\n",
    "    b = int(input('podaj dlugosc: '))\n",
    "    \n",
    "    a = a//2\n",
    "    b = b//2\n",
    "    return we, wy, a, b"
   ]
  },
  {
   "cell_type": "code",
   "execution_count": null,
   "metadata": {},
   "outputs": [],
   "source": [
    "from random import shuffle, randrange\n",
    " \n",
    "def maze(plansza):\n",
    "    wid = [[0] * plansza[2] + [1] for _ in range(plansza[3])] + [[1] * (plansza[2] + 1)]\n",
    "    pion = [[\"# \"] * plansza[2] + ['#'] for _ in range(plansza[3])] + [[]]\n",
    "    pozio = [[\"##\"] * plansza[2] + ['#'] for _ in range(plansza[3] + 1)]\n",
    " \n",
    "    \n",
    "    def walk(x, y):\n",
    "        wid[y][x] = 1\n",
    " \n",
    "        d = [(x - 1, y), (x, y + 1), (x + 1, y), (x, y - 1)]\n",
    "        shuffle(d)\n",
    "        for (xx, yy) in d:\n",
    "            if wid[yy][xx]: continue\n",
    "            if xx == x: pozio[max(y, yy)][x] = \"# \"\n",
    "            if yy == y: pion[y][max(x, xx)] = \"  \"\n",
    "            walk(xx, yy)\n",
    " \n",
    "    walk(randrange(plansza[2]), randrange(plansza[3]))\n",
    "    \n",
    "    s = \"\"\n",
    "    #print(hor, \"\\n\\n\")\n",
    "    #print(ver, \"\\n\\n\")\n",
    "    for (a, b) in zip(pozio, pion):\n",
    "        s += ''.join(a + ['\\n'] + b + ['\\n'])\n",
    "    print(s)\n",
    "    \n",
    "    s=[[i for i in line] for line in s.split('\\n')]\n",
    "    #s[int(plansza[0][0])][int(plansza[0][1])] = str('@')  \n",
    "    #s[int(plansza[1][0])][int(plansza[1][1])] = str('@') \n",
    "    return s\n",
    " \n",
    "if __name__ == '__main__':\n",
    "    #print(maze())\n",
    "    plansza =  createboard()\n",
    "    print('\\n'.join([str(elem) for elem in maze(plansza)]))"
   ]
  },
  {
   "cell_type": "code",
   "execution_count": null,
   "metadata": {},
   "outputs": [],
   "source": [
    "from tkinter import *\n",
    "from tkinter import ttk\n",
    "\n",
    "def lab_game(plansza):\n",
    "    # Tworzenie okna\n",
    "    window = Tk()\n",
    "    window.title(\"Labirynt\")\n",
    "\n",
    "    # Tworzenie siatki na przyciski\n",
    "    mainframe = Frame(window)\n",
    "\n",
    "    # Umieszczenie siatki w oknie\n",
    "    mainframe.grid(column = 0, row = 0, sticky = (N, W, E, S))\n",
    "\n",
    "    # Dodanie przycisków do wrzucania monet\n",
    "    \n",
    "    \n",
    "    for i in range(len(plansza)):\n",
    "        for j in range(len(plansza[i])):\n",
    "            if(plansza[i][j]=='#'):\n",
    "                Button(mainframe,text='sciana',bg=\"black\") \\\n",
    "                .grid(column = j, row = i)\n",
    "            else:\n",
    "                Button(mainframe,text='           ',bg=\"white\") \\\n",
    "                .grid(column = j, row = i)\n",
    "            \n",
    "            \n",
    "        \n",
    "\n",
    "    # Uruchom\n",
    "    \n",
    "    window.mainloop()\n",
    "    \n",
    "lab_game(maze(plansza))"
   ]
  },
  {
   "cell_type": "code",
   "execution_count": null,
   "metadata": {},
   "outputs": [],
   "source": []
  },
  {
   "cell_type": "code",
   "execution_count": null,
   "metadata": {},
   "outputs": [],
   "source": []
  },
  {
   "cell_type": "code",
   "execution_count": null,
   "metadata": {},
   "outputs": [],
   "source": []
  }
 ],
 "metadata": {
  "kernelspec": {
   "display_name": "Python 3",
   "language": "python",
   "name": "python3"
  },
  "language_info": {
   "codemirror_mode": {
    "name": "ipython",
    "version": 3
   },
   "file_extension": ".py",
   "mimetype": "text/x-python",
   "name": "python",
   "nbconvert_exporter": "python",
   "pygments_lexer": "ipython3",
   "version": "3.8.5"
  }
 },
 "nbformat": 4,
 "nbformat_minor": 4
}
